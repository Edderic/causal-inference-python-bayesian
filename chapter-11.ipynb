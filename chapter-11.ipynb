{
 "cells": [
  {
   "cell_type": "markdown",
   "metadata": {
    "toc": "true"
   },
   "source": [
    "# Table of Contents\n",
    " <p><div class=\"lev1 toc-item\"><a href=\"#Chapter-11\" data-toc-modified-id=\"Chapter-11-1\"><span class=\"toc-item-num\">1&nbsp;&nbsp;</span>Chapter 11</a></div><div class=\"lev2 toc-item\"><a href=\"#Setup-and-imports\" data-toc-modified-id=\"Setup-and-imports-11\"><span class=\"toc-item-num\">1.1&nbsp;&nbsp;</span>Setup and imports</a></div><div class=\"lev2 toc-item\"><a href=\"#Section-11.1\" data-toc-modified-id=\"Section-11.1-12\"><span class=\"toc-item-num\">1.2&nbsp;&nbsp;</span>Section 11.1</a></div><div class=\"lev3 toc-item\"><a href=\"#Program-11.1\" data-toc-modified-id=\"Program-11.1-121\"><span class=\"toc-item-num\">1.2.1&nbsp;&nbsp;</span>Program 11.1</a></div>"
   ]
  },
  {
   "cell_type": "markdown",
   "metadata": {},
   "source": [
    "# Chapter 11"
   ]
  },
  {
   "cell_type": "markdown",
   "metadata": {},
   "source": [
    "## Setup and imports"
   ]
  },
  {
   "cell_type": "code",
   "execution_count": 1,
   "metadata": {},
   "outputs": [],
   "source": [
    "import pymc3 as pm\n",
    "import pandas as pd\n",
    "import matplotlib.pyplot as plt\n",
    "import numpy as np\n",
    "%matplotlib inline"
   ]
  },
  {
   "cell_type": "markdown",
   "metadata": {},
   "source": [
    "## Section 11.1"
   ]
  },
  {
   "cell_type": "markdown",
   "metadata": {},
   "source": [
    "### Program 11.1"
   ]
  },
  {
   "cell_type": "code",
   "execution_count": 2,
   "metadata": {},
   "outputs": [],
   "source": [
    "df1 = pd.DataFrame({\n",
    "    'A': [1, 1, 1, 1, 1, 1, 1, 1, 0, 0, 0, 0, 0, 0, 0, 0],\n",
    "    'Y': [\n",
    "        200, 150, 220, 110, 50, 180, 90, 170,\n",
    "        170, 30, 70, 110, 80, 50, 10, 20\n",
    "    ]\n",
    "})"
   ]
  },
  {
   "cell_type": "code",
   "execution_count": 3,
   "metadata": {
    "scrolled": true
   },
   "outputs": [
    {
     "data": {
      "image/png": "[encoded data removed]",
      "text/plain": [
       "<matplotlib.figure.Figure at 0x1c10c0d208>"
      ]
     },
     "metadata": {},
     "output_type": "display_data"
    }
   ],
   "source": [
    "fig, ax = plt.subplots()\n",
    "\n",
    "ax.scatter(df1['A'], df1['Y'])\n",
    "ax.set_xlabel('A')\n",
    "ax.set_ylabel('Y');"
   ]
  },
  {
   "cell_type": "code",
   "execution_count": 4,
   "metadata": {},
   "outputs": [
    {
     "data": {
      "text/html": [
       "<div>\n",
       "<style scoped>\n",
       "    .dataframe tbody tr th:only-of-type {\n",
       "        vertical-align: middle;\n",
       "    }\n",
       "\n",
       "    .dataframe tbody tr th {\n",
       "        vertical-align: top;\n",
       "    }\n",
       "\n",
       "    .dataframe thead th {\n",
       "        text-align: right;\n",
       "    }\n",
       "</style>\n",
       "<table border=\"1\" class=\"dataframe\">\n",
       "  <thead>\n",
       "    <tr style=\"text-align: right;\">\n",
       "      <th></th>\n",
       "      <th>Y</th>\n",
       "    </tr>\n",
       "    <tr>\n",
       "      <th>A</th>\n",
       "      <th></th>\n",
       "    </tr>\n",
       "  </thead>\n",
       "  <tbody>\n",
       "    <tr>\n",
       "      <th>0</th>\n",
       "      <td>67.50</td>\n",
       "    </tr>\n",
       "    <tr>\n",
       "      <th>1</th>\n",
       "      <td>146.25</td>\n",
       "    </tr>\n",
       "  </tbody>\n",
       "</table>\n",
       "</div>"
      ],
      "text/plain": [
       "        Y\n",
       "A        \n",
       "0   67.50\n",
       "1  146.25"
      ]
     },
     "execution_count": 4,
     "metadata": {},
     "output_type": "execute_result"
    }
   ],
   "source": [
    "df1.groupby('A').mean()"
   ]
  },
  {
   "cell_type": "markdown",
   "metadata": {},
   "source": [
    "\"Now suppose treatment A is a polytomous variable that can take 4 possible values\""
   ]
  },
  {
   "cell_type": "code",
   "execution_count": 5,
   "metadata": {},
   "outputs": [],
   "source": [
    "df2 = pd.DataFrame({\n",
    "    'A': [\n",
    "        1, 1, 1, 1, 2, 2, 2, 2,\n",
    "        3, 3, 3, 3, 4, 4, 4, 4\n",
    "    ],\n",
    "    'Y': [\n",
    "        110, 80, 50, 40, 170, 30, 70, 50,\n",
    "        110, 50, 180, 130, 200, 150, 220, 210\n",
    "    ]\n",
    "})"
   ]
  },
  {
   "cell_type": "code",
   "execution_count": 6,
   "metadata": {},
   "outputs": [
    {
     "data": {
      "image/png": "[encoded data removed]",
      "text/plain": [
       "<matplotlib.figure.Figure at 0x1c142972b0>"
      ]
     },
     "metadata": {},
     "output_type": "display_data"
    }
   ],
   "source": [
    "fig, ax = plt.subplots()\n",
    "\n",
    "ax.scatter(df2['A'], df2['Y'])\n",
    "ax.set_xlabel('A')\n",
    "ax.set_ylabel('Y');"
   ]
  },
  {
   "cell_type": "code",
   "execution_count": 7,
   "metadata": {},
   "outputs": [
    {
     "data": {
      "text/html": [
       "<div>\n",
       "<style scoped>\n",
       "    .dataframe tbody tr th:only-of-type {\n",
       "        vertical-align: middle;\n",
       "    }\n",
       "\n",
       "    .dataframe tbody tr th {\n",
       "        vertical-align: top;\n",
       "    }\n",
       "\n",
       "    .dataframe thead th {\n",
       "        text-align: right;\n",
       "    }\n",
       "</style>\n",
       "<table border=\"1\" class=\"dataframe\">\n",
       "  <thead>\n",
       "    <tr style=\"text-align: right;\">\n",
       "      <th></th>\n",
       "      <th>Y</th>\n",
       "    </tr>\n",
       "    <tr>\n",
       "      <th>A</th>\n",
       "      <th></th>\n",
       "    </tr>\n",
       "  </thead>\n",
       "  <tbody>\n",
       "    <tr>\n",
       "      <th>1</th>\n",
       "      <td>70.0</td>\n",
       "    </tr>\n",
       "    <tr>\n",
       "      <th>2</th>\n",
       "      <td>80.0</td>\n",
       "    </tr>\n",
       "    <tr>\n",
       "      <th>3</th>\n",
       "      <td>117.5</td>\n",
       "    </tr>\n",
       "    <tr>\n",
       "      <th>4</th>\n",
       "      <td>195.0</td>\n",
       "    </tr>\n",
       "  </tbody>\n",
       "</table>\n",
       "</div>"
      ],
      "text/plain": [
       "       Y\n",
       "A       \n",
       "1   70.0\n",
       "2   80.0\n",
       "3  117.5\n",
       "4  195.0"
      ]
     },
     "execution_count": 7,
     "metadata": {},
     "output_type": "execute_result"
    }
   ],
   "source": [
    "df2.groupby('A').mean()"
   ]
  },
  {
   "cell_type": "code",
   "execution_count": 8,
   "metadata": {},
   "outputs": [],
   "source": [
    "A, Y = zip(*(\n",
    "    (3, 21),\n",
    "    (11, 54),\n",
    "    (17, 33),\n",
    "    (23, 101),\n",
    "    (29, 85),\n",
    "    (37, 65),\n",
    "    (41, 157),\n",
    "    (53, 120),\n",
    "    (67, 111),\n",
    "    (79, 200),\n",
    "    (83, 140),\n",
    "    (97, 220),\n",
    "    (60, 230),\n",
    "    (71, 217),\n",
    "    (15, 11),\n",
    "    (45, 190),\n",
    "))"
   ]
  },
  {
   "cell_type": "code",
   "execution_count": 9,
   "metadata": {},
   "outputs": [],
   "source": [
    "df3 = pd.DataFrame({'A': A, 'Y': Y, 'constant': np.ones(16)})"
   ]
  },
  {
   "cell_type": "code",
   "execution_count": 10,
   "metadata": {},
   "outputs": [
    {
     "data": {
      "image/png": "[encoded data removed]",
      "text/plain": [
       "<matplotlib.figure.Figure at 0x1c141b3668>"
      ]
     },
     "metadata": {},
     "output_type": "display_data"
    }
   ],
   "source": [
    "fig, ax = plt.subplots()\n",
    "\n",
    "ax.scatter(df3.A, df3.Y)\n",
    "ax.set_xlabel('A')\n",
    "ax.set_ylabel('Y');"
   ]
  },
  {
   "cell_type": "code",
   "execution_count": 96,
   "metadata": {},
   "outputs": [
    {
     "name": "stderr",
     "output_type": "stream",
     "text": [
      "Auto-assigning NUTS sampler...\n",
      "Initializing NUTS using jitter+adapt_diag...\n",
      "Multiprocess sampling (4 chains in 4 jobs)\n",
      "NUTS: [sigma, theta_1, theta_0]\n",
      "Sampling 4 chains: 100%|██████████| 12000/12000 [00:04<00:00, 2853.23draws/s]\n"
     ]
    }
   ],
   "source": [
    "with pm.Model() as df3_linear_model:\n",
    "    theta_0 = pm.Normal('theta_0', mu=0, sd=40)\n",
    "    theta_1 = pm.Normal('theta_1', mu=0, sd=40)\n",
    "    mean = theta_0 + theta_1 * df3['A']\n",
    "    sigma = pm.Uniform('sigma', 0, 80)\n",
    "    pm.Normal('observed', mu=mean, sd=sigma, observed=df3['Y'])\n",
    "    \n",
    "    df3_linear_traces = pm.sample(draws=2000, tune=1000)"
   ]
  },
  {
   "cell_type": "code",
   "execution_count": 97,
   "metadata": {},
   "outputs": [
    {
     "data": {
      "text/plain": [
       "<matplotlib.gridspec.GridSpec at 0x1c34b75470>"
      ]
     },
     "execution_count": 97,
     "metadata": {},
     "output_type": "execute_result"
    },
    {
     "data": {
      "image/png": "[encoded data removed]",
      "text/plain": [
       "<matplotlib.figure.Figure at 0x1c35549240>"
      ]
     },
     "metadata": {},
     "output_type": "display_data"
    }
   ],
   "source": [
    "pm.forestplot(df3_linear_traces)"
   ]
  },
  {
   "cell_type": "code",
   "execution_count": 98,
   "metadata": {},
   "outputs": [
    {
     "data": {
      "text/plain": [
       "<matplotlib.axes._subplots.AxesSubplot at 0x1c3992c6d8>"
      ]
     },
     "execution_count": 98,
     "metadata": {},
     "output_type": "execute_result"
    },
    {
     "data": {
      "image/png": "[encoded data removed]",
      "text/plain": [
       "<matplotlib.figure.Figure at 0x1c34b89438>"
      ]
     },
     "metadata": {},
     "output_type": "display_data"
    }
   ],
   "source": [
    "pm.plot_posterior(df3_linear_traces['theta_0'])"
   ]
  },
  {
   "cell_type": "code",
   "execution_count": 99,
   "metadata": {},
   "outputs": [
    {
     "data": {
      "text/plain": [
       "<matplotlib.axes._subplots.AxesSubplot at 0x1c39a34da0>"
      ]
     },
     "execution_count": 99,
     "metadata": {},
     "output_type": "execute_result"
    },
    {
     "data": {
      "image/png": "[encoded data removed]",
      "text/plain": [
       "<matplotlib.figure.Figure at 0x1c3994e278>"
      ]
     },
     "metadata": {},
     "output_type": "display_data"
    }
   ],
   "source": [
    "pm.plot_posterior(df3_linear_traces['theta_1'])"
   ]
  },
  {
   "cell_type": "code",
   "execution_count": 100,
   "metadata": {},
   "outputs": [],
   "source": [
    "posterior_mean_prediction_df3 = df3_linear_traces['theta_0'] + \\\n",
    "        df3_linear_traces['theta_1'] * 90 "
   ]
  },
  {
   "cell_type": "code",
   "execution_count": 110,
   "metadata": {},
   "outputs": [
    {
     "name": "stdout",
     "output_type": "stream",
     "text": [
      "point-estimate E[Y|A=90]: 220.116926066\n"
     ]
    }
   ],
   "source": [
    "print('point-estimate E[Y|A=90]:', posterior_mean_prediction_df3.mean())"
   ]
  },
  {
   "cell_type": "code",
   "execution_count": 101,
   "metadata": {},
   "outputs": [],
   "source": [
    "full_posterior_df3_prediction = np.random.normal(\n",
    "    loc=posterior_mean_prediction_df3,\n",
    "    scale=df3_linear_traces['sigma']\n",
    ")"
   ]
  },
  {
   "cell_type": "code",
   "execution_count": 102,
   "metadata": {},
   "outputs": [
    {
     "data": {
      "text/plain": [
       "<matplotlib.axes._subplots.AxesSubplot at 0x1c39a93898>"
      ]
     },
     "execution_count": 102,
     "metadata": {},
     "output_type": "execute_result"
    },
    {
     "data": {
      "image/png": "[encoded data removed]",
      "text/plain": [
       "<matplotlib.figure.Figure at 0x1c39b77da0>"
      ]
     },
     "metadata": {},
     "output_type": "display_data"
    }
   ],
   "source": [
    "pd.Series(\n",
    "    posterior_mean_prediction_df3\n",
    ").plot.hist(bins=50, title='Posterior E[Y|A=90]')"
   ]
  },
  {
   "cell_type": "code",
   "execution_count": 103,
   "metadata": {},
   "outputs": [],
   "source": [
    "def credible_interval(lower=0.025, upper=0.975, values='Give me an array'):\n",
    "    sorted_values = np.sort(values)\n",
    "    length = sorted_values.shape[0]\n",
    "    return (\n",
    "        round(sorted_values[int(lower * length)], 2), \n",
    "        round(sorted_values[int(upper * length)], 2)\n",
    "    )\n"
   ]
  },
  {
   "cell_type": "code",
   "execution_count": 104,
   "metadata": {},
   "outputs": [
    {
     "name": "stdout",
     "output_type": "stream",
     "text": [
      "95% Credible Interval for E[Y|A=90]: (177.09999999999999, 264.00999999999999)\n"
     ]
    }
   ],
   "source": [
    "print(\n",
    "    \"95% Credible Interval for E[Y|A=90]:\",\n",
    "    credible_interval(values=posterior_mean_prediction_df3)\n",
    ")"
   ]
  },
  {
   "cell_type": "code",
   "execution_count": 105,
   "metadata": {
    "scrolled": false
   },
   "outputs": [
    {
     "data": {
      "text/plain": [
       "<matplotlib.axes._subplots.AxesSubplot at 0x1c39ce4ef0>"
      ]
     },
     "execution_count": 105,
     "metadata": {},
     "output_type": "execute_result"
    },
    {
     "data": {
      "image/png": "[encoded data removed]",
      "text/plain": [
       "<matplotlib.figure.Figure at 0x1c39cafcc0>"
      ]
     },
     "metadata": {},
     "output_type": "display_data"
    }
   ],
   "source": [
    "pd.Series(full_posterior_df3_prediction).plot.hist(bins=50, title='Posterior of Y given A=90')"
   ]
  },
  {
   "cell_type": "code",
   "execution_count": 113,
   "metadata": {},
   "outputs": [
    {
     "data": {
      "text/plain": [
       "(8000,)"
      ]
     },
     "execution_count": 113,
     "metadata": {},
     "output_type": "execute_result"
    }
   ],
   "source": [
    "posterior_mean_prediction_df3.shape"
   ]
  },
  {
   "cell_type": "code",
   "execution_count": 115,
   "metadata": {},
   "outputs": [],
   "source": [
    "num_items_in_x = 1000\n",
    "shape = (num_items_in_x, posterior_mean_prediction_df3.shape[0])\n",
    "mean_collection_linear = np.zeros(shape)\n",
    "posterior_collection_linear = np.zeros(shape)\n",
    "\n",
    "x_values = np.linspace(\n",
    "    start=0, \n",
    "    stop=100, \n",
    "    num=num_items_in_x\n",
    ")\n",
    "\n",
    "for i in range(0, num_items_in_x):\n",
    "    mean_collection_linear[i,:] = df3_linear_traces['theta_0'] + \\\n",
    "        df3_linear_traces['theta_1'] * x_values[i]\n",
    "    \n",
    "    posterior_collection_linear[i,:] = np.random.normal(\n",
    "        loc=mean_collection_linear[i, :],\n",
    "        scale=df3_linear_traces['sigma']\n",
    "    )"
   ]
  },
  {
   "cell_type": "code",
   "execution_count": 117,
   "metadata": {
    "scrolled": true
   },
   "outputs": [
    {
     "data": {
      "text/plain": [
       "<matplotlib.text.Text at 0x1c15552ef0>"
      ]
     },
     "execution_count": 117,
     "metadata": {},
     "output_type": "execute_result"
    },
    {
     "data": {
      "image/png": "[encoded data removed]",
      "text/plain": [
       "<matplotlib.figure.Figure at 0x1c35346a58>"
      ]
     },
     "metadata": {},
     "output_type": "display_data"
    }
   ],
   "source": [
    "fig, ax = plt.subplots()\n",
    "\n",
    "ax.scatter(df3.A, df3.Y)\n",
    "ax.set_xlabel('A')\n",
    "ax.set_ylabel('Y');\n",
    "\n",
    "# plot best guess\n",
    "ax.plot(\n",
    "    x_values,\n",
    "    df3_linear_traces['theta_0'].mean() + \\\n",
    "        df3_linear_traces['theta_1'].mean() * x_values\n",
    ")\n",
    "\n",
    "# plot 95% Credible Intervals for means, given A=a\n",
    "ax.fill_between(\n",
    "    x_values,\n",
    "    pm.hpd(mean_collection_linear.T).T[0],\n",
    "    pm.hpd(mean_collection_linear.T).T[1],\n",
    "    color='orange',\n",
    "    alpha=0.3\n",
    ")\n",
    "\n",
    "# plot 95% Credible Intervals for full posterior, given A=a\n",
    "ax.fill_between(\n",
    "    x_values,\n",
    "    pm.hpd(posterior_collection_linear.T).T[0],\n",
    "    pm.hpd(posterior_collection_linear.T).T[1],\n",
    "    color='green',\n",
    "    alpha=0.3\n",
    ")\n",
    "\n",
    "ax.set_title('Best fit line, 95% Cred. Int. for the Means & Full Model')"
   ]
  },
  {
   "cell_type": "code",
   "execution_count": 122,
   "metadata": {},
   "outputs": [
    {
     "name": "stderr",
     "output_type": "stream",
     "text": [
      "Auto-assigning NUTS sampler...\n",
      "Initializing NUTS using jitter+adapt_diag...\n",
      "Multiprocess sampling (4 chains in 4 jobs)\n",
      "NUTS: [sigma, theta_2, theta_1, theta_0]\n",
      "Sampling 4 chains: 100%|██████████| 24000/24000 [00:25<00:00, 933.80draws/s] \n",
      "There were 5 divergences after tuning. Increase `target_accept` or reparameterize.\n",
      "The number of effective samples is smaller than 25% for some parameters.\n"
     ]
    }
   ],
   "source": [
    "with pm.Model() as df3_quadratic_model:\n",
    "    theta_0 = pm.Normal('theta_0', mu=0, sd=40)\n",
    "    theta_1 = pm.Normal('theta_1', mu=0, sd=40)\n",
    "    theta_2 = pm.Normal('theta_2', mu=0, sd=40)\n",
    "    mean = theta_0 + theta_1 * df3['A'] + theta_2 * df3['A'] * df3['A']\n",
    "    sigma = pm.Uniform('sigma', 0, 80)\n",
    "    pm.Normal('observed', mu=mean, sd=sigma, observed=df3['Y'])\n",
    "    \n",
    "    df3_quadratic_traces = pm.sample(draws=2000, tune=4000)"
   ]
  },
  {
   "cell_type": "code",
   "execution_count": 126,
   "metadata": {},
   "outputs": [
    {
     "data": {
      "text/plain": [
       "array([<matplotlib.axes._subplots.AxesSubplot object at 0x1c460a8dd8>,\n",
       "       <matplotlib.axes._subplots.AxesSubplot object at 0x1c39880e48>,\n",
       "       <matplotlib.axes._subplots.AxesSubplot object at 0x1c459dadd8>,\n",
       "       <matplotlib.axes._subplots.AxesSubplot object at 0x1c46042208>], dtype=object)"
      ]
     },
     "execution_count": 126,
     "metadata": {},
     "output_type": "execute_result"
    },
    {
     "data": {
      "image/png": "[encoded data removed]",
      "text/plain": [
       "<matplotlib.figure.Figure at 0x1c463f5cc0>"
      ]
     },
     "metadata": {},
     "output_type": "display_data"
    }
   ],
   "source": [
    "pm.plot_posterior(df3_quadratic_traces)"
   ]
  },
  {
   "cell_type": "code",
   "execution_count": 124,
   "metadata": {},
   "outputs": [],
   "source": [
    "num_items_in_x = 1000\n",
    "shape = (num_items_in_x, posterior_mean_prediction_df3.shape[0])\n",
    "mean_collection_quadratic = np.zeros(shape)\n",
    "posterior_collection_quadratic = np.zeros(shape)\n",
    "\n",
    "x_values = np.linspace(\n",
    "    start=0, \n",
    "    stop=100, \n",
    "    num=num_items_in_x\n",
    ")\n",
    "\n",
    "for i in range(0, num_items_in_x):\n",
    "    mean_collection_quadratic[i,:] = df3_quadratic_traces['theta_0'] + \\\n",
    "        df3_quadratic_traces['theta_1'] * x_values[i] + \\\n",
    "        df3_quadratic_traces['theta_2'] * x_values[i] * x_values[i]\n",
    "    \n",
    "    posterior_collection_quadratic[i,:] = np.random.normal(\n",
    "        loc=mean_collection_quadratic[i, :],\n",
    "        scale=df3_quadratic_traces['sigma']\n",
    "    )"
   ]
  },
  {
   "cell_type": "code",
   "execution_count": 129,
   "metadata": {},
   "outputs": [],
   "source": [
    "quadratic_mean_estimate = df3_quadratic_traces['theta_0'] + \\\n",
    "        df3_quadratic_traces['theta_1'] * 90 + \\\n",
    "        df3_quadratic_traces['theta_2'] * 90 * 90"
   ]
  },
  {
   "cell_type": "code",
   "execution_count": 132,
   "metadata": {},
   "outputs": [
    {
     "name": "stdout",
     "output_type": "stream",
     "text": [
      "95% Credible Interval E[Y|A=90]: [ 142.59044637  251.29709057]\n"
     ]
    }
   ],
   "source": [
    "print('95% Credible Interval E[Y|A=90]:', pm.hpd(quadratic_mean_estimate))"
   ]
  },
  {
   "cell_type": "code",
   "execution_count": 133,
   "metadata": {},
   "outputs": [
    {
     "name": "stdout",
     "output_type": "stream",
     "text": [
      "Best Estimate E[Y|A=90]: 197.720310828\n"
     ]
    }
   ],
   "source": [
    "print('Best Estimate E[Y|A=90]:', quadratic_mean_estimate.mean())"
   ]
  },
  {
   "cell_type": "code",
   "execution_count": 130,
   "metadata": {},
   "outputs": [
    {
     "data": {
      "text/plain": [
       "<matplotlib.axes._subplots.AxesSubplot at 0x1c395f6978>"
      ]
     },
     "execution_count": 130,
     "metadata": {},
     "output_type": "execute_result"
    },
    {
     "data": {
      "image/png": "[encoded data removed]",
      "text/plain": [
       "<matplotlib.figure.Figure at 0x1c39f948d0>"
      ]
     },
     "metadata": {},
     "output_type": "display_data"
    }
   ],
   "source": [
    "pd.Series(\n",
    "    quadratic_mean_estimate\n",
    ").plot.hist(bins=50)"
   ]
  },
  {
   "cell_type": "code",
   "execution_count": 125,
   "metadata": {
    "scrolled": true
   },
   "outputs": [
    {
     "data": {
      "text/plain": [
       "<matplotlib.text.Text at 0x1c3a005160>"
      ]
     },
     "execution_count": 125,
     "metadata": {},
     "output_type": "execute_result"
    },
    {
     "data": {
      "image/png": "[encoded data removed]",
      "text/plain": [
       "<matplotlib.figure.Figure at 0x1c460a8e80>"
      ]
     },
     "metadata": {},
     "output_type": "display_data"
    }
   ],
   "source": [
    "fig, ax = plt.subplots()\n",
    "\n",
    "ax.scatter(df3.A, df3.Y)\n",
    "ax.set_xlabel('A')\n",
    "ax.set_ylabel('Y');\n",
    "\n",
    "# plot best guess\n",
    "ax.plot(\n",
    "    x_values,\n",
    "    df3_quadratic_traces['theta_0'].mean() + \\\n",
    "        df3_quadratic_traces['theta_1'].mean() * x_values + \\\n",
    "        df3_quadratic_traces['theta_2'].mean() * x_values * x_values\n",
    ")\n",
    "\n",
    "# plot 95% Credible Intervals for means, given A=a\n",
    "ax.fill_between(\n",
    "    x_values,\n",
    "    pm.hpd(mean_collection_quadratic.T).T[0],\n",
    "    pm.hpd(mean_collection_quadratic.T).T[1],\n",
    "    color='orange',\n",
    "    alpha=0.3\n",
    ")\n",
    "\n",
    "# plot 95% Credible Intervals for full posterior, given A=a\n",
    "ax.fill_between(\n",
    "    x_values,\n",
    "    pm.hpd(posterior_collection_quadratic.T).T[0],\n",
    "    pm.hpd(posterior_collection_quadratic.T).T[1],\n",
    "    color='green',\n",
    "    alpha=0.3\n",
    ")\n",
    "\n",
    "ax.set_title('Best fit line, 95% Cred. Int. for the Means & Full Model')"
   ]
  },
  {
   "cell_type": "code",
   "execution_count": null,
   "metadata": {},
   "outputs": [],
   "source": []
  }
 ],
 "metadata": {
  "kernelspec": {
   "display_name": "Python 3",
   "language": "python",
   "name": "python3"
  },
  "language_info": {
   "codemirror_mode": {
    "name": "ipython",
    "version": 3
   },
   "file_extension": ".py",
   "mimetype": "text/x-python",
   "name": "python",
   "nbconvert_exporter": "python",
   "pygments_lexer": "ipython3",
   "version": "3.6.0"
  },
  "toc": {
   "colors": {
    "hover_highlight": "#DAA520",
    "navigate_num": "#000000",
    "navigate_text": "#333333",
    "running_highlight": "#FF0000",
    "selected_highlight": "#FFD700",
    "sidebar_border": "#EEEEEE",
    "wrapper_background": "#FFFFFF"
   },
   "moveMenuLeft": true,
   "nav_menu": {
    "height": "4px",
    "width": "254px"
   },
   "navigate_menu": true,
   "number_sections": true,
   "sideBar": true,
   "threshold": "5",
   "toc_cell": true,
   "toc_section_display": "block",
   "toc_window_display": true,
   "widenNotebook": false
  }
 },
 "nbformat": 4,
 "nbformat_minor": 2
}
